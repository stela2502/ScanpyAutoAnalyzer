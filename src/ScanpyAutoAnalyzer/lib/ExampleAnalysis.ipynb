{
 "cells": [
  {
   "cell_type": "markdown",
   "id": "median-tradition",
   "metadata": {},
   "source": [
    "# An Example Analysis\n",
    "\n",
    "The corner stones here should be flexibility.\n",
    "2D or 3D analysis - exclude ^MT- and ^RP[LS] or only one of them?\n",
    "How to deal with this expression if the genes are not excluded?\n",
    "\n",
    "Make it scriptable - Input either h5ad, loom or CellRanger out files."
   ]
  },
  {
   "cell_type": "code",
   "execution_count": null,
   "id": "bibliographic-emphasis",
   "metadata": {},
   "outputs": [],
   "source": [
    "CellRangerIn = [ \"CELLRANGERDATA\" ]\n",
    "LoomIn = [ \"LoomIN\" ]\n",
    "h5file = \"H5FILE\"\n"
   ]
  },
  {
   "cell_type": "code",
   "execution_count": null,
   "id": "advisory-tumor",
   "metadata": {},
   "outputs": [],
   "source": [
    "ofile = \"OUTFILE.h5ad\"\n",
    "dimensions = \"DIMENSIONS\"\n"
   ]
  },
  {
   "cell_type": "code",
   "execution_count": null,
   "id": "moving-veteran",
   "metadata": {},
   "outputs": [],
   "source": [
    "RPexclude = \"RPEXCLUDE\"\n",
    "MTexclude = \"MTEXCLUDE\"\n",
    "\n",
    "key = \"louvain\" ## the column to run stats on - leave it like that\n",
    "key_added = 'KEY_ADDED' ## stats table name and folder name!\n"
   ]
  },
  {
   "cell_type": "code",
   "execution_count": null,
   "id": "paperback-hours",
   "metadata": {},
   "outputs": [],
   "source": [
    "GOIS = [ \"GenesOfInterest\" ]"
   ]
  },
  {
   "cell_type": "code",
   "execution_count": null,
   "id": "continuing-scholarship",
   "metadata": {},
   "outputs": [],
   "source": [
    "import scvelo as scv\n",
    "import loompy\n",
    "import scanpy\n",
    "import igraph\n",
    "import phate\n",
    "import glob, os\n",
    "import pandas as pd\n",
    "import os\n",
    "import re\n",
    "import subprocess\n",
    "from collections import Counter\n",
    "import numpy as np\n",
    "from shutil import rmtree"
   ]
  },
  {
   "cell_type": "code",
   "execution_count": null,
   "id": "entertaining-parameter",
   "metadata": {},
   "outputs": [],
   "source": [
    "if not CellRangerIn[0] == \"CELLRANGERDATA\":\n",
    "    print(\"reading CellRanger matrix file(s)\")\n",
    "    adata = scanpy.read_10x_mtx( CellRangerIn[0] )\n",
    "    if len(CellRangerIn) > 1:\n",
    "        for i in range(1,len(CellRangerIn)):\n",
    "            tmp = scanpy.read_10x_mtx( CellRangerIn[i] )\n",
    "            adata = adata0.concatenate(adata, tmp, batch_key='sample')\n",
    "    adata.var_names_make_unique()\n",
    "    adata"
   ]
  },
  {
   "cell_type": "code",
   "execution_count": null,
   "id": "cubic-sculpture",
   "metadata": {},
   "outputs": [],
   "source": [
    "if not LoomIn[0] == \"LoomIN\":\n",
    "    print(\"reading loom file(s)\")\n",
    "    adata = scvelo.read_loom( LoomIn[0] )\n",
    "    if len(CellRangerIn) > 1:\n",
    "        for i in range(1,len(LoomIn)):\n",
    "            tmp = scanpy.read_10x_mtx( LoomIn[i] )\n",
    "            adata = adata0.concatenate(adata, tmp, batch_key='sample')\n",
    "    adata.var_names_make_unique()\n",
    "    adata"
   ]
  },
  {
   "cell_type": "code",
   "execution_count": null,
   "id": "desperate-health",
   "metadata": {},
   "outputs": [],
   "source": [
    "if not h5file == \"H5FILE\":\n",
    "    print(\"reading h5 anndata file\")\n",
    "    adata = scanpy.read( h5file )\n",
    "    adata.var_names_make_unique()\n",
    "    adata"
   ]
  },
  {
   "cell_type": "code",
   "execution_count": null,
   "id": "complex-guess",
   "metadata": {},
   "outputs": [],
   "source": [
    "try: adata\n",
    "except:\n",
    "    adata = None\n",
    "if adata is None:\n",
    "    raise RuntimeError('No input file defined')"
   ]
  },
  {
   "cell_type": "code",
   "execution_count": null,
   "id": "treated-exploration",
   "metadata": {},
   "outputs": [],
   "source": [
    "sampleID = [ str(cellID[-1]) for cellID in adata.obs.index._values ]\n",
    "Counter(sampleID)"
   ]
  },
  {
   "cell_type": "code",
   "execution_count": null,
   "id": "american-madagascar",
   "metadata": {},
   "outputs": [],
   "source": [
    "#sampleNameDict = {\n",
    "#    \"1\": \"CD34\",\n",
    "#    \"2\": \"EF_1\",\n",
    "#    \"3\": \"EF_2\",\n",
    "#    \"4\": \"sg_1\",\n",
    "#    \"5\": \"sg_2\"\n",
    "#}"
   ]
  },
  {
   "cell_type": "code",
   "execution_count": null,
   "id": "portuguese-accent",
   "metadata": {},
   "outputs": [],
   "source": [
    "#sampleName = [ sampleNameDict[cellID[-1]] for cellID in adata.obs.index._values ]\n",
    "#Counter(sampleName)"
   ]
  },
  {
   "cell_type": "code",
   "execution_count": null,
   "id": "ranging-domain",
   "metadata": {},
   "outputs": [],
   "source": [
    "#sampleTypeDict = {\n",
    "#    \"1\": \"CD34\",\n",
    "#    \"2\": \"EF\",\n",
    "#    \"3\": \"EF\",\n",
    "#    \"4\": \"sg\",\n",
    "#    \"5\": \"sg\"\n",
    "#}"
   ]
  },
  {
   "cell_type": "code",
   "execution_count": null,
   "id": "significant-biotechnology",
   "metadata": {},
   "outputs": [],
   "source": [
    "#sampleType = [ sampleTypeDict[cellID[-1]] for cellID in adata.obs.index._values ]\n",
    "#Counter(sampleType)"
   ]
  },
  {
   "cell_type": "code",
   "execution_count": null,
   "id": "amino-annual",
   "metadata": {},
   "outputs": [],
   "source": [
    "df = pd.DataFrame ( {\n",
    "    \"cellID\" :   adata.obs.index._values,\n",
    "    \"sampleID\" : sampleID  \n",
    "})\n",
    "df.index = adata.obs.index\n",
    "adata.obs= df"
   ]
  },
  {
   "cell_type": "code",
   "execution_count": null,
   "id": "miniature-exhaust",
   "metadata": {},
   "outputs": [],
   "source": [
    "df"
   ]
  },
  {
   "cell_type": "code",
   "execution_count": null,
   "id": "coupled-african",
   "metadata": {},
   "outputs": [],
   "source": [
    "RP = re.compile('^RP[SL]')\n",
    "def testRP(x):\n",
    "    r= True\n",
    "    if RP.match(x):\n",
    "        r = False\n",
    "    return (r)\n",
    "RPgenes = [ x  for x in adata.var.index if not testRP(x)]\n",
    "#print ( Counter(RPgenes) )\n",
    "adata.obs['RP[LS]sum'] = adata[:,RPgenes].X.sum(axis=1)\n",
    "\n",
    "if not RPexclude == \"RPEXCLUDE\":\n",
    "    OK = [ testRP(x) for x in adata.var.index ]\n",
    "    adata._inplace_subset_var( np.array(OK) )\n",
    "    adata\n",
    "    "
   ]
  },
  {
   "cell_type": "code",
   "execution_count": null,
   "id": "ordinary-trademark",
   "metadata": {},
   "outputs": [],
   "source": [
    "MT = re.compile('^MT-')\n",
    "def testMT(x):\n",
    "    r= True\n",
    "    if MT.match(x):\n",
    "        r = False\n",
    "    return (r)\n",
    "MTgenes = [ x  for x in adata.var.index if not testMT(x)]\n",
    "#print ( Counter(RPgenes) )\n",
    "adata.obs['MTsum'] = adata[:,MTgenes].X.sum(axis=1)\n",
    "\n",
    "if not MTexclude == \"MTEXCLUDE\":\n",
    "    OK = [ testMT(x) for x in adata.var.index ]\n",
    "    adata._inplace_subset_var( np.array(OK) )\n",
    "    adata"
   ]
  },
  {
   "cell_type": "code",
   "execution_count": null,
   "id": "exclusive-stake",
   "metadata": {},
   "outputs": [],
   "source": [
    "print(adata.n_vars)\n"
   ]
  },
  {
   "cell_type": "code",
   "execution_count": null,
   "id": "still-minnesota",
   "metadata": {},
   "outputs": [],
   "source": [
    "def testGene(x):\n",
    "    r= True\n",
    "    if MT.match(x) or RP.match(x):\n",
    "        r = False\n",
    "    return (r)\n",
    "\n",
    "genes = [ x  for x in adata.var.index if testGene(x)]\n",
    "adata.obs['geneSum'] = adata[:,genes].X.sum(axis=1)\n",
    "\n",
    "adata"
   ]
  },
  {
   "cell_type": "code",
   "execution_count": null,
   "id": "activated-corpus",
   "metadata": {},
   "outputs": [],
   "source": [
    "if len(genes) != adata.n_vars:\n",
    "    ## get rid of cells that have less than 1000 reads from normal genes\n",
    "    adata = adata[ adata.obs['geneSum'] > 1000]\n",
    "adata"
   ]
  },
  {
   "cell_type": "code",
   "execution_count": null,
   "id": "returning-shuttle",
   "metadata": {},
   "outputs": [],
   "source": [
    "scanpy.pp.filter_cells(adata, min_genes=100 )\n",
    "adata"
   ]
  },
  {
   "cell_type": "code",
   "execution_count": null,
   "id": "combined-terminology",
   "metadata": {},
   "outputs": [],
   "source": [
    "scanpy.pp.downsample_counts(adata, counts_per_cell= 1000 )\n",
    "adata"
   ]
  },
  {
   "cell_type": "code",
   "execution_count": null,
   "id": "monetary-slave",
   "metadata": {},
   "outputs": [],
   "source": [
    "scanpy.pp.filter_genes(adata, min_counts=10 )\n",
    "adata"
   ]
  },
  {
   "cell_type": "code",
   "execution_count": null,
   "id": "indie-collins",
   "metadata": {},
   "outputs": [],
   "source": [
    "scv.pp.log1p(adata)\n",
    "scanpy.pp.highly_variable_genes(adata, n_top_genes=3000)\n",
    "print ( Counter( adata.var['highly_variable']))\n",
    "adata"
   ]
  },
  {
   "cell_type": "code",
   "execution_count": null,
   "id": "speaking-auction",
   "metadata": {},
   "outputs": [],
   "source": [
    "#scv.pp.moments(adata, n_pcs=30, n_neighbors=30)\n",
    "scanpy.pp.neighbors(adata, n_neighbors=30)\n",
    "if dimensions == \"DIMENSIONS\":\n",
    "    dimensions = 2\n",
    "scanpy.tl.umap(adata,n_components= dimensions)\n",
    "scanpy.tl.louvain(adata)"
   ]
  },
  {
   "cell_type": "code",
   "execution_count": null,
   "id": "coordinated-vietnamese",
   "metadata": {},
   "outputs": [],
   "source": [
    "scv.pl.scatter(adata, color='sampleID', figsize =(15,12), legend_loc='right margin')"
   ]
  },
  {
   "cell_type": "code",
   "execution_count": null,
   "id": "promising-heading",
   "metadata": {},
   "outputs": [],
   "source": [
    "scv.pl.scatter(adata, color='MTsum', figsize =(7,5), legend_loc='right margin')"
   ]
  },
  {
   "cell_type": "code",
   "execution_count": null,
   "id": "technological-stewart",
   "metadata": {},
   "outputs": [],
   "source": [
    "scv.pl.scatter(adata, color='RP[LS]sum', figsize =(7,5), legend_loc='right margin')"
   ]
  },
  {
   "cell_type": "code",
   "execution_count": null,
   "id": "wireless-hebrew",
   "metadata": {},
   "outputs": [],
   "source": [
    "scv.pl.scatter(adata, color='geneSum', figsize =(7,5), legend_loc='right margin')"
   ]
  },
  {
   "cell_type": "code",
   "execution_count": null,
   "id": "joined-wheat",
   "metadata": {},
   "outputs": [],
   "source": [
    "if not GOIS[0] == \"GenesOfInterest\":\n",
    "    for gene in GOIS:\n",
    "        scv.pl.scatter(adata, color=gene, cmap=\"viridis_r\", figsize =(15,12), legend_loc='right margin')"
   ]
  },
  {
   "cell_type": "code",
   "execution_count": null,
   "id": "collective-lover",
   "metadata": {},
   "outputs": [],
   "source": [
    "\n",
    "scanpy.tl.rank_genes_groups(\n",
    "    adata, \n",
    "    groupby   = 'louvain',\n",
    "    key_added = key_added,\n",
    "    method    = 'wilcoxon',\n",
    ")\n",
    "\n",
    "adata"
   ]
  },
  {
   "cell_type": "code",
   "execution_count": null,
   "id": "electrical-narrow",
   "metadata": {},
   "outputs": [],
   "source": [
    "scanpy.pl.rank_genes_groups(adata, key = key_added )"
   ]
  },
  {
   "cell_type": "code",
   "execution_count": null,
   "id": "centered-rescue",
   "metadata": {},
   "outputs": [],
   "source": [
    "scv.pl.scatter(adata, color=['louvain','sampleID'], figsize =(7,5), legend_loc='on data')\n",
    "\n",
    "scv.pl.scatter(adata, color=['louvain','sampleID'], figsize =(7,5), legend_loc='right margin')"
   ]
  },
  {
   "cell_type": "code",
   "execution_count": null,
   "id": "academic-arthur",
   "metadata": {},
   "outputs": [],
   "source": [
    "diff_results = adata.uns[key_added]\n",
    "diff_results.keys()"
   ]
  },
  {
   "cell_type": "code",
   "execution_count": null,
   "id": "aging-direction",
   "metadata": {},
   "outputs": [],
   "source": [
    "columns = ['names', 'scores', 'pvals', 'pvals_adj', 'logfoldchanges']\n",
    "try: \n",
    "    os.mkdir(f\"{key_added}\") \n",
    "except OSError as error: \n",
    "    print(error)  \n",
    "    \n",
    "for i in range(adata.obs['louvain'].nunique()-1):\n",
    "    table = {}\n",
    "    for j in columns:\n",
    "        table[j] = pd.DataFrame(diff_results[j])[str(i)]\n",
    "    table = pd.DataFrame(table).to_csv(f\"{key_added}/cluster_{i}.csv\")"
   ]
  },
  {
   "cell_type": "code",
   "execution_count": null,
   "id": "monthly-surprise",
   "metadata": {},
   "outputs": [],
   "source": [
    "if os.path.exists(ofile):\n",
    "    os.remove(ofile)\n",
    "adata.write(ofile)\n",
    "print(ofile)"
   ]
  },
  {
   "cell_type": "markdown",
   "id": "superb-helping",
   "metadata": {},
   "source": [
    "# It has helped tremendousely\n",
    "\n",
    "to plot the louvain clusters sample specific.\n",
    "Makes it way more easy to see where the grooups of interest/problem are."
   ]
  },
  {
   "cell_type": "code",
   "execution_count": null,
   "id": "alert-negotiation",
   "metadata": {},
   "outputs": [],
   "source": [
    "for ID in Counter(sampleID).keys():\n",
    "    tmp = adata[adata.obs['sampleID'].isin([ID])]\n",
    "    scv.pl.scatter(tmp,color=['louvain'], figsize =(14,10), legend_loc='right margin', title=f\"sampleID {ID}\")"
   ]
  },
  {
   "cell_type": "code",
   "execution_count": null,
   "id": "english-produce",
   "metadata": {},
   "outputs": [],
   "source": []
  }
 ],
 "metadata": {
  "kernelspec": {
   "display_name": "Python 3",
   "language": "python",
   "name": "python3"
  },
  "language_info": {
   "codemirror_mode": {
    "name": "ipython",
    "version": 3
   },
   "file_extension": ".py",
   "mimetype": "text/x-python",
   "name": "python",
   "nbconvert_exporter": "python",
   "pygments_lexer": "ipython3",
   "version": "3.8.5"
  }
 },
 "nbformat": 4,
 "nbformat_minor": 5
}
